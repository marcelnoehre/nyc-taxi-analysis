{
 "cells": [
  {
   "cell_type": "markdown",
   "metadata": {},
   "source": [
    "# Center of Manhattan based on taxi trips"
   ]
  },
  {
   "cell_type": "code",
   "execution_count": 1,
   "metadata": {},
   "outputs": [],
   "source": [
    "import setup"
   ]
  },
  {
   "cell_type": "code",
   "execution_count": 2,
   "metadata": {},
   "outputs": [],
   "source": [
    "def manhattan_percentages(direction):\n",
    "    manhattan = [setup_manhattan(month, direction) for month in setup.year]\n",
    "    percentages = [percentage(month) for month in manhattan]\n",
    "    result(center(sum(percentages) / 12))\n",
    "\n",
    "\n",
    "def setup_manhattan(month, direction):\n",
    "    return month.loc[(month[direction].isin(setup.districts['manhattan'])) & (month['passenger_count'] > 0)][direction].value_counts()\n",
    "\n",
    "\n",
    "def percentage(month):\n",
    "    return month / month.sum() * 100\n",
    "\n",
    "\n",
    "def center(center):\n",
    "    return [center.loc[(center >= category) & (center < category + 1)].keys().tolist() for category in range(5)]\n",
    "    \n",
    "\n",
    "def result(center):\n",
    "    for index, values in enumerate(center):\n",
    "        print(f'---------- Category {index} ----------')\n",
    "        print(values, '\\n')"
   ]
  },
  {
   "cell_type": "markdown",
   "metadata": {},
   "source": [
    "# Pickups in Manhattan\n",
    "#### Calculate the center of Manhattan based on the customer pickups"
   ]
  },
  {
   "cell_type": "code",
   "execution_count": 3,
   "metadata": {},
   "outputs": [
    {
     "name": "stdout",
     "output_type": "stream",
     "text": [
      "---------- Category 0 ----------\n",
      "[4, 12, 13, 24, 41, 42, 45, 74, 75, 87, 88, 105, 116, 120, 125, 127, 128, 151, 152, 153, 166, 194, 202, 209, 211, 224, 232, 243, 244, 261] \n",
      "\n",
      "---------- Category 1 ----------\n",
      "[43, 50, 90, 113, 114, 137, 140, 143, 144, 148, 158, 231, 233, 246, 262] \n",
      "\n",
      "---------- Category 2 ----------\n",
      "[68, 79, 100, 107, 141, 163, 164, 229, 238, 239, 249, 263] \n",
      "\n",
      "---------- Category 3 ----------\n",
      "[48, 142, 162, 170, 186, 230, 234] \n",
      "\n",
      "---------- Category 4 ----------\n",
      "[161, 236, 237] \n",
      "\n"
     ]
    }
   ],
   "source": [
    "manhattan_percentages('PULocationID')"
   ]
  },
  {
   "cell_type": "markdown",
   "metadata": {},
   "source": [
    "![](../assets/manhatten_pu_center.jpg?raw=true)"
   ]
  },
  {
   "cell_type": "markdown",
   "metadata": {},
   "source": [
    "# Dropoffs in Manhattan\n",
    "#### Calculate the center of Manhattan based on the customer dropoffs"
   ]
  },
  {
   "cell_type": "code",
   "execution_count": 4,
   "metadata": {},
   "outputs": [
    {
     "name": "stdout",
     "output_type": "stream",
     "text": [
      "---------- Category 0 ----------\n",
      "[4, 12, 24, 41, 42, 45, 74, 87, 88, 105, 116, 120, 125, 127, 128, 151, 152, 153, 166, 194, 202, 209, 211, 224, 232, 243, 244, 261] \n",
      "\n",
      "---------- Category 1 ----------\n",
      "[13, 43, 50, 75, 90, 100, 113, 114, 137, 143, 144, 148, 158, 231, 233, 249, 262] \n",
      "\n",
      "---------- Category 2 ----------\n",
      "[68, 79, 107, 140, 141, 163, 164, 186, 229, 238, 239, 246, 263] \n",
      "\n",
      "---------- Category 3 ----------\n",
      "[48, 142, 162, 170, 230, 234] \n",
      "\n",
      "---------- Category 4 ----------\n",
      "[161, 236, 237] \n",
      "\n"
     ]
    }
   ],
   "source": [
    "manhattan_percentages('DOLocationID')"
   ]
  },
  {
   "cell_type": "markdown",
   "metadata": {},
   "source": [
    "![](../assets/manhatten_do_center.jpg?raw=true)"
   ]
  }
 ],
 "metadata": {
  "kernelspec": {
   "display_name": "Python 3.9.13 64-bit (windows store)",
   "language": "python",
   "name": "python3"
  },
  "language_info": {
   "codemirror_mode": {
    "name": "ipython",
    "version": 3
   },
   "file_extension": ".py",
   "mimetype": "text/x-python",
   "name": "python",
   "nbconvert_exporter": "python",
   "pygments_lexer": "ipython3",
   "version": "3.12.0"
  },
  "orig_nbformat": 4,
  "vscode": {
   "interpreter": {
    "hash": "f004ae71c413d8a3df0b87d9b3a0f1518e5351c0a5690e8892b84b64b6776c21"
   }
  }
 },
 "nbformat": 4,
 "nbformat_minor": 2
}
