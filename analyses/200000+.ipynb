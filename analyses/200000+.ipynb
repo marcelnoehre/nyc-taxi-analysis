{
 "cells": [
  {
   "cell_type": "markdown",
   "metadata": {},
   "source": [
    "# Districts with more than 200.000 taxi trips per month"
   ]
  },
  {
   "cell_type": "code",
   "execution_count": 1,
   "metadata": {},
   "outputs": [],
   "source": [
    "import setup"
   ]
  },
  {
   "cell_type": "code",
   "execution_count": 2,
   "metadata": {},
   "outputs": [],
   "source": [
    "def count_pickups(month):\n",
    "    return month.loc[month['passenger_count'] > 0, 'PULocationID'].value_counts().loc[lambda x: x >= 200000]\n",
    "\n",
    "\n",
    "def count_trip_starts(month, amount):\n",
    "    for key in month.keys():\n",
    "        if month[key] > 0:\n",
    "            amount[key] += 1\n",
    "            \n",
    "    return amount\n",
    "\n",
    "\n",
    "def result(usage):\n",
    "    print(setup.yaml.dump(usage, default_flow_style=False))"
   ]
  },
  {
   "cell_type": "markdown",
   "metadata": {},
   "source": [
    "# PULocationID\n",
    "#### Amount of month with 200000+ trip starts per district"
   ]
  },
  {
   "cell_type": "code",
   "execution_count": 3,
   "metadata": {},
   "outputs": [
    {
     "name": "stdout",
     "output_type": "stream",
     "text": [
      "48: 12\n",
      "68: 6\n",
      "79: 12\n",
      "107: 7\n",
      "132: 10\n",
      "138: 12\n",
      "141: 6\n",
      "142: 12\n",
      "161: 12\n",
      "162: 12\n",
      "163: 11\n",
      "164: 8\n",
      "170: 12\n",
      "186: 12\n",
      "230: 12\n",
      "234: 12\n",
      "236: 12\n",
      "237: 12\n",
      "239: 10\n",
      "\n"
     ]
    }
   ],
   "source": [
    "pickups, pickups_amount = {i + 1: 0 for i in range(265)}, []\n",
    "\n",
    "for month in setup.year:\n",
    "    pickups_amount.append(count_pickups(month))\n",
    "\n",
    "for month in pickups_amount:\n",
    "    pickups = count_trip_starts(month, pickups)\n",
    "\n",
    "result({key: value for key, value in pickups.items() if value > 0})"
   ]
  },
  {
   "cell_type": "markdown",
   "metadata": {},
   "source": [
    "![](../assets/200.000_pu.jpg?raw=true)"
   ]
  }
 ],
 "metadata": {
  "kernelspec": {
   "display_name": "Python 3.9.13 64-bit (microsoft store)",
   "language": "python",
   "name": "python3"
  },
  "language_info": {
   "codemirror_mode": {
    "name": "ipython",
    "version": 3
   },
   "file_extension": ".py",
   "mimetype": "text/x-python",
   "name": "python",
   "nbconvert_exporter": "python",
   "pygments_lexer": "ipython3",
   "version": "3.12.0"
  },
  "orig_nbformat": 4,
  "vscode": {
   "interpreter": {
    "hash": "f004ae71c413d8a3df0b87d9b3a0f1518e5351c0a5690e8892b84b64b6776c21"
   }
  }
 },
 "nbformat": 4,
 "nbformat_minor": 2
}
